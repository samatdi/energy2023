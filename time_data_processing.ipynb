{
 "cells": [
  {
   "cell_type": "code",
   "execution_count": 109,
   "id": "96ed502c",
   "metadata": {},
   "outputs": [],
   "source": [
    "import pandas as pd \n",
    "import matplotlib.pyplot as plt\n",
    "#plt.rcParams['font.family'] = 'AppleGothic' # 폰트 변경\n",
    "#plt.rcParams['axes.unicode_minus'] = False # 축 값 마이너스 깨짐 해결\n",
    "\n",
    "from torch.nn import Transformer\n",
    "from torch import nn\n",
    "import torch\n",
    "import math\n",
    "from sklearn.model_selection import train_test_split\n",
    "import optuna\n",
    "from sklearn.metrics import mean_absolute_percentage_error ,mean_squared_error"
   ]
  },
  {
   "cell_type": "code",
   "execution_count": 110,
   "id": "2fe3789b",
   "metadata": {},
   "outputs": [],
   "source": [
    "#path = '~/workplace/datas/energy/'\n",
    "path = '~/Desktop/workplace/datas/energy/'\n",
    "\n",
    "train_df = pd.read_csv(path + 'final_data.csv',index_col=0)\n",
    "y_test = pd.read_csv(path + 'y_test.csv', index_col=0)"
   ]
  },
  {
   "cell_type": "code",
   "execution_count": 111,
   "id": "e8f6c8a1",
   "metadata": {},
   "outputs": [],
   "source": [
    "train_df.reset_index(inplace=True)"
   ]
  },
  {
   "cell_type": "code",
   "execution_count": 112,
   "id": "131ea271",
   "metadata": {},
   "outputs": [],
   "source": [
    "train_df = train_df.rename(columns={'index':'기준일시'})"
   ]
  },
  {
   "cell_type": "code",
   "execution_count": 113,
   "id": "b6bce3f7",
   "metadata": {},
   "outputs": [
    {
     "data": {
      "text/html": [
       "<div>\n",
       "<style scoped>\n",
       "    .dataframe tbody tr th:only-of-type {\n",
       "        vertical-align: middle;\n",
       "    }\n",
       "\n",
       "    .dataframe tbody tr th {\n",
       "        vertical-align: top;\n",
       "    }\n",
       "\n",
       "    .dataframe thead th {\n",
       "        text-align: right;\n",
       "    }\n",
       "</style>\n",
       "<table border=\"1\" class=\"dataframe\">\n",
       "  <thead>\n",
       "    <tr style=\"text-align: right;\">\n",
       "      <th></th>\n",
       "      <th>기준일시</th>\n",
       "      <th>기온(°C)</th>\n",
       "      <th>강수량(mm)</th>\n",
       "      <th>풍속(m/s)</th>\n",
       "      <th>습도(%)</th>\n",
       "      <th>현지기압(hPa)</th>\n",
       "      <th>일조(hr)</th>\n",
       "      <th>일사(MJ/m2)</th>\n",
       "      <th>적설(cm)</th>\n",
       "      <th>전운량(10분위)</th>\n",
       "      <th>지면온도(°C)</th>\n",
       "      <th>현재수요(MW)</th>\n",
       "    </tr>\n",
       "  </thead>\n",
       "  <tbody>\n",
       "    <tr>\n",
       "      <th>547516</th>\n",
       "      <td>2023-03-19 23:35:00</td>\n",
       "      <td>4.946842</td>\n",
       "      <td>0.0</td>\n",
       "      <td>0.862368</td>\n",
       "      <td>68.204386</td>\n",
       "      <td>1006.203070</td>\n",
       "      <td>0.08617</td>\n",
       "      <td>0.060784</td>\n",
       "      <td>0.0</td>\n",
       "      <td>2.612281</td>\n",
       "      <td>3.775088</td>\n",
       "      <td>58627.16</td>\n",
       "    </tr>\n",
       "    <tr>\n",
       "      <th>547517</th>\n",
       "      <td>2023-03-19 23:40:00</td>\n",
       "      <td>4.870526</td>\n",
       "      <td>0.0</td>\n",
       "      <td>0.864211</td>\n",
       "      <td>68.477193</td>\n",
       "      <td>1006.187719</td>\n",
       "      <td>0.08617</td>\n",
       "      <td>0.060784</td>\n",
       "      <td>0.0</td>\n",
       "      <td>2.645614</td>\n",
       "      <td>3.722807</td>\n",
       "      <td>57941.24</td>\n",
       "    </tr>\n",
       "    <tr>\n",
       "      <th>547518</th>\n",
       "      <td>2023-03-19 23:45:00</td>\n",
       "      <td>4.794211</td>\n",
       "      <td>0.0</td>\n",
       "      <td>0.866053</td>\n",
       "      <td>68.750000</td>\n",
       "      <td>1006.172368</td>\n",
       "      <td>0.08617</td>\n",
       "      <td>0.060784</td>\n",
       "      <td>0.0</td>\n",
       "      <td>2.678947</td>\n",
       "      <td>3.670526</td>\n",
       "      <td>57726.21</td>\n",
       "    </tr>\n",
       "    <tr>\n",
       "      <th>547519</th>\n",
       "      <td>2023-03-19 23:50:00</td>\n",
       "      <td>4.717895</td>\n",
       "      <td>0.0</td>\n",
       "      <td>0.867895</td>\n",
       "      <td>69.022807</td>\n",
       "      <td>1006.157018</td>\n",
       "      <td>0.08617</td>\n",
       "      <td>0.060784</td>\n",
       "      <td>0.0</td>\n",
       "      <td>2.712281</td>\n",
       "      <td>3.618246</td>\n",
       "      <td>57755.40</td>\n",
       "    </tr>\n",
       "    <tr>\n",
       "      <th>547520</th>\n",
       "      <td>2023-03-19 23:55:00</td>\n",
       "      <td>4.641579</td>\n",
       "      <td>0.0</td>\n",
       "      <td>0.869737</td>\n",
       "      <td>69.295614</td>\n",
       "      <td>1006.141667</td>\n",
       "      <td>0.08617</td>\n",
       "      <td>0.060784</td>\n",
       "      <td>0.0</td>\n",
       "      <td>2.745614</td>\n",
       "      <td>3.565965</td>\n",
       "      <td>57323.79</td>\n",
       "    </tr>\n",
       "  </tbody>\n",
       "</table>\n",
       "</div>"
      ],
      "text/plain": [
       "                       기준일시    기온(°C)  강수량(mm)   풍속(m/s)      습도(%)  \\\n",
       "547516  2023-03-19 23:35:00  4.946842      0.0  0.862368  68.204386   \n",
       "547517  2023-03-19 23:40:00  4.870526      0.0  0.864211  68.477193   \n",
       "547518  2023-03-19 23:45:00  4.794211      0.0  0.866053  68.750000   \n",
       "547519  2023-03-19 23:50:00  4.717895      0.0  0.867895  69.022807   \n",
       "547520  2023-03-19 23:55:00  4.641579      0.0  0.869737  69.295614   \n",
       "\n",
       "          현지기압(hPa)   일조(hr)  일사(MJ/m2)  적설(cm)  전운량(10분위)  지면온도(°C)  현재수요(MW)  \n",
       "547516  1006.203070  0.08617   0.060784     0.0   2.612281  3.775088  58627.16  \n",
       "547517  1006.187719  0.08617   0.060784     0.0   2.645614  3.722807  57941.24  \n",
       "547518  1006.172368  0.08617   0.060784     0.0   2.678947  3.670526  57726.21  \n",
       "547519  1006.157018  0.08617   0.060784     0.0   2.712281  3.618246  57755.40  \n",
       "547520  1006.141667  0.08617   0.060784     0.0   2.745614  3.565965  57323.79  "
      ]
     },
     "execution_count": 113,
     "metadata": {},
     "output_type": "execute_result"
    }
   ],
   "source": [
    "train_df.tail()"
   ]
  },
  {
   "cell_type": "code",
   "execution_count": 114,
   "id": "a04e55cb",
   "metadata": {},
   "outputs": [],
   "source": [
    "train_df['기준일시'] = pd.to_datetime(train_df['기준일시'])"
   ]
  },
  {
   "cell_type": "code",
   "execution_count": 115,
   "id": "be26fe1d",
   "metadata": {},
   "outputs": [],
   "source": [
    "train_df['hour'] = train_df['기준일시'].dt.hour\n",
    "train_df['month'] = train_df['기준일시'].dt.month\n",
    "train_df['year'] = train_df['기준일시'].dt.year\n",
    "train_df['day'] = train_df['기준일시'].dt.day\n",
    "train_df['min'] = train_df['기준일시'].dt.minute"
   ]
  },
  {
   "cell_type": "code",
   "execution_count": null,
   "id": "736b4a48",
   "metadata": {},
   "outputs": [],
   "source": [
    "#더미를 같이하고 나눠줘야 컬럼수가 같구나...."
   ]
  },
  {
   "cell_type": "code",
   "execution_count": 117,
   "id": "615de035",
   "metadata": {},
   "outputs": [],
   "source": [
    "train_df = pd.get_dummies(train_df, columns=['hour', 'month', 'year', 'day', 'min'])"
   ]
  },
  {
   "cell_type": "code",
   "execution_count": 118,
   "id": "2c5f32c3",
   "metadata": {},
   "outputs": [
    {
     "data": {
      "text/plain": [
       "(547521, 97)"
      ]
     },
     "execution_count": 118,
     "metadata": {},
     "output_type": "execute_result"
    }
   ],
   "source": [
    "train_df.shape"
   ]
  },
  {
   "cell_type": "code",
   "execution_count": 119,
   "id": "af38b42b",
   "metadata": {},
   "outputs": [],
   "source": [
    "encoded_test_df = train_df[train_df['기준일시'] >= '2023-03-13']\n",
    "encoded_train_df = train_df[train_df['기준일시'] < '2023-03-13']"
   ]
  },
  {
   "cell_type": "code",
   "execution_count": 120,
   "id": "0dbad6b7",
   "metadata": {
    "collapsed": true
   },
   "outputs": [
    {
     "name": "stderr",
     "output_type": "stream",
     "text": [
      "/var/folders/qb/s5vw4nk95r53s007_f3ty08m0000gn/T/ipykernel_17942/542440738.py:1: SettingWithCopyWarning: \n",
      "A value is trying to be set on a copy of a slice from a DataFrame\n",
      "\n",
      "See the caveats in the documentation: https://pandas.pydata.org/pandas-docs/stable/user_guide/indexing.html#returning-a-view-versus-a-copy\n",
      "  encoded_test_df.drop(columns=['기준일시'], inplace=True)\n",
      "/var/folders/qb/s5vw4nk95r53s007_f3ty08m0000gn/T/ipykernel_17942/542440738.py:2: SettingWithCopyWarning: \n",
      "A value is trying to be set on a copy of a slice from a DataFrame\n",
      "\n",
      "See the caveats in the documentation: https://pandas.pydata.org/pandas-docs/stable/user_guide/indexing.html#returning-a-view-versus-a-copy\n",
      "  encoded_train_df.drop(columns=['기준일시'], inplace=True)\n"
     ]
    }
   ],
   "source": [
    "encoded_test_df.drop(columns=['기준일시'], inplace=True)\n",
    "encoded_train_df.drop(columns=['기준일시'], inplace=True)"
   ]
  },
  {
   "cell_type": "code",
   "execution_count": 121,
   "id": "03de838e",
   "metadata": {},
   "outputs": [
    {
     "data": {
      "text/plain": [
       "((2016, 96), (545505, 96))"
      ]
     },
     "execution_count": 121,
     "metadata": {},
     "output_type": "execute_result"
    }
   ],
   "source": [
    "encoded_test_df.shape , encoded_train_df.shape"
   ]
  },
  {
   "cell_type": "code",
   "execution_count": 122,
   "id": "2f26e1f1",
   "metadata": {},
   "outputs": [],
   "source": [
    "encoded_train_df.to_csv(path + 'encoded_train_df.csv')\n",
    "encoded_test_df.to_csv(path + 'encoded_test_df.csv')"
   ]
  },
  {
   "cell_type": "code",
   "execution_count": null,
   "id": "bbec0afe",
   "metadata": {},
   "outputs": [],
   "source": []
  }
 ],
 "metadata": {
  "kernelspec": {
   "display_name": "Python 3 (ipykernel)",
   "language": "python",
   "name": "python3"
  },
  "language_info": {
   "codemirror_mode": {
    "name": "ipython",
    "version": 3
   },
   "file_extension": ".py",
   "mimetype": "text/x-python",
   "name": "python",
   "nbconvert_exporter": "python",
   "pygments_lexer": "ipython3",
   "version": "3.10.11"
  }
 },
 "nbformat": 4,
 "nbformat_minor": 5
}
